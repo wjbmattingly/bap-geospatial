{
 "cells": [
  {
   "cell_type": "code",
   "execution_count": 7,
   "id": "6acdfe4c-034f-43a4-8642-150d7432dccf",
   "metadata": {},
   "outputs": [],
   "source": [
    "import pandas as pd\n",
    "import spacy\n",
    "import dateparser\n",
    "import re"
   ]
  },
  {
   "cell_type": "code",
   "execution_count": 4,
   "id": "f5351b83-77fb-4abe-8d3e-4393e4ef8232",
   "metadata": {},
   "outputs": [
    {
     "data": {
      "text/html": [
       "<div>\n",
       "<style scoped>\n",
       "    .dataframe tbody tr th:only-of-type {\n",
       "        vertical-align: middle;\n",
       "    }\n",
       "\n",
       "    .dataframe tbody tr th {\n",
       "        vertical-align: top;\n",
       "    }\n",
       "\n",
       "    .dataframe thead th {\n",
       "        text-align: right;\n",
       "    }\n",
       "</style>\n",
       "<table border=\"1\" class=\"dataframe\">\n",
       "  <thead>\n",
       "    <tr style=\"text-align: right;\">\n",
       "      <th></th>\n",
       "      <th>ObjectId</th>\n",
       "      <th>Last</th>\n",
       "      <th>First</th>\n",
       "      <th>Description</th>\n",
       "      <th>Place</th>\n",
       "      <th>Yr</th>\n",
       "      <th>Homeland</th>\n",
       "      <th>Province</th>\n",
       "      <th>Long</th>\n",
       "      <th>Lat</th>\n",
       "      <th>HRV</th>\n",
       "      <th>ORG</th>\n",
       "    </tr>\n",
       "  </thead>\n",
       "  <tbody>\n",
       "    <tr>\n",
       "      <th>0</th>\n",
       "      <td>1</td>\n",
       "      <td>AARON</td>\n",
       "      <td>Thabo Simon</td>\n",
       "      <td>An ANCYL member who was shot and severely inju...</td>\n",
       "      <td>Bethulie</td>\n",
       "      <td>1991.0</td>\n",
       "      <td>NaN</td>\n",
       "      <td>Orange Free State</td>\n",
       "      <td>25.97552</td>\n",
       "      <td>-30.50329</td>\n",
       "      <td>shoot|injure</td>\n",
       "      <td>ANC|ANCYL|Police|SAP</td>\n",
       "    </tr>\n",
       "  </tbody>\n",
       "</table>\n",
       "</div>"
      ],
      "text/plain": [
       "   ObjectId   Last        First  \\\n",
       "0         1  AARON  Thabo Simon   \n",
       "\n",
       "                                         Description     Place      Yr  \\\n",
       "0  An ANCYL member who was shot and severely inju...  Bethulie  1991.0   \n",
       "\n",
       "  Homeland           Province      Long       Lat           HRV  \\\n",
       "0      NaN  Orange Free State  25.97552 -30.50329  shoot|injure   \n",
       "\n",
       "                    ORG  \n",
       "0  ANC|ANCYL|Police|SAP  "
      ]
     },
     "execution_count": 4,
     "metadata": {},
     "output_type": "execute_result"
    }
   ],
   "source": [
    "df = pd.read_csv(\"../data/data.csv\")\n",
    "df.head(1)"
   ]
  },
  {
   "cell_type": "code",
   "execution_count": 5,
   "id": "0650976d-53f0-43e9-a511-e73e89ecb7dc",
   "metadata": {},
   "outputs": [],
   "source": [
    "descriptions = df.Description.tolist()"
   ]
  },
  {
   "cell_type": "code",
   "execution_count": 14,
   "id": "c48cf019-1f79-4a61-9e35-9b8240281ef1",
   "metadata": {},
   "outputs": [],
   "source": [
    "date_pattern = \"(\\d{1,2} )*(January|February|March|April|May|June|July|August|September|October|November|December) \\d{1,4}\""
   ]
  },
  {
   "cell_type": "code",
   "execution_count": 16,
   "id": "e7e782b3-f8c6-4730-802b-3f1bfc89f40e",
   "metadata": {},
   "outputs": [
    {
     "name": "stdout",
     "output_type": "stream",
     "text": [
      "An ANCYL member who was shot and severely injured by SAP members at Lephoi, Bethulie, Orange Free State (OFS) on 17 April 1991. Police opened fire on a gathering at an ANC supporter's house following a dispute between two neighbours, one of whom was linked to the ANC and the other to the SAP and a councillor.\n",
      "17 April 1991\n"
     ]
    }
   ],
   "source": [
    "dates = []\n",
    "for d in descriptions[:1]:\n",
    "    print(d)\n",
    "    matches = re.finditer(date_pattern, d)\n",
    "    temp = []\n",
    "    for m in matches:\n",
    "        date_string = m.group()\n",
    "        timeseries = dateparser.parse(date_string)\n",
    "        temp.append((date_string, timeseries))"
   ]
  },
  {
   "cell_type": "code",
   "execution_count": null,
   "id": "198b7a16-e2c8-46e4-be08-02c445605da3",
   "metadata": {},
   "outputs": [],
   "source": []
  }
 ],
 "metadata": {
  "kernelspec": {
   "display_name": "Python 3 (ipykernel)",
   "language": "python",
   "name": "python3"
  },
  "language_info": {
   "codemirror_mode": {
    "name": "ipython",
    "version": 3
   },
   "file_extension": ".py",
   "mimetype": "text/x-python",
   "name": "python",
   "nbconvert_exporter": "python",
   "pygments_lexer": "ipython3",
   "version": "3.8.5"
  }
 },
 "nbformat": 4,
 "nbformat_minor": 5
}
