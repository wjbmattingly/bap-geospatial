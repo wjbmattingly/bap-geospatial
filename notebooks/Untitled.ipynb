{
 "cells": [
  {
   "cell_type": "code",
   "execution_count": 7,
   "id": "ba3c1879-a621-4554-9cae-2a30b21e057d",
   "metadata": {},
   "outputs": [],
   "source": [
    "import pandas as pd\n",
    "import pickle\n",
    "import dateparser"
   ]
  },
  {
   "cell_type": "code",
   "execution_count": 8,
   "id": "aaa5f124-b68e-4da0-a0f5-96c23b5df826",
   "metadata": {},
   "outputs": [],
   "source": [
    "def grab_uniques(df, column):\n",
    "    items = []\n",
    "    for idx, row in df.iterrows():\n",
    "        if pd.isnull(row[column]):\n",
    "            pass\n",
    "        else:\n",
    "            for item in row[column].split(\"|\"):\n",
    "                if item not in items:\n",
    "                    items.append(item)\n",
    "    items.sort()\n",
    "    return items"
   ]
  },
  {
   "cell_type": "code",
   "execution_count": 14,
   "id": "07aec1fa-ea3e-4f36-8320-6a90de6474df",
   "metadata": {},
   "outputs": [
    {
     "name": "stderr",
     "output_type": "stream",
     "text": [
      "C:\\Users\\wma22\\AppData\\Roaming\\Python\\Python38\\site-packages\\dateparser\\date_parser.py:35: PytzUsageWarning: The localize method is no longer necessary, as this time zone supports the fold attribute (PEP 495). For more details on migrating to a PEP 495-compliant implementation, see https://pytz-deprecation-shim.readthedocs.io/en/latest/migration.html\n",
      "  date_obj = stz.localize(date_obj)\n"
     ]
    }
   ],
   "source": [
    "df = pd.read_csv(\"../data/data_cleaned.csv\")\n",
    "df = df[df['place'].notna()]\n",
    "df = df[df['long'].notna()]\n",
    "df = df[df['lat'].notna()]\n",
    "df.index = df.object_id\n",
    "orgs = grab_uniques(df, \"org\")\n",
    "places = grab_uniques(df, \"place\")\n",
    "homelands = grab_uniques(df, \"homeland\")\n",
    "provinces = grab_uniques(df, \"province\")\n",
    "hrvs = grab_uniques(df, \"hrv\")\n",
    "\n",
    "data = []\n",
    "dates_only = []\n",
    "for idx, row in df.iterrows():\n",
    "    if \"-\" not in str(row.long):\n",
    "        # try:\n",
    "        # st.write(row.dates)\n",
    "        # if dates_checkbox:\n",
    "        if pd.isnull(row.date):\n",
    "            # if dates_checkbox == False:\n",
    "            name = f\"{row.full_name}\"\n",
    "            coords = [float(row.long), float(row.lat)]\n",
    "            place = row.place\n",
    "            description = row.description\n",
    "            data.append({\"name\": str(name),\n",
    "            \"place\": str(place),\n",
    "            \"description\": str(description),\n",
    "            \"coordinates\": coords,\n",
    "            \"date\": \"Date: \" + \"Unknown\",\n",
    "            \"id\": row.object_id})\n",
    "            # pass\n",
    "        else:\n",
    "\n",
    "            dates = row.date.split(\"|\")\n",
    "            # st.write(dates)\n",
    "            for date in dates:\n",
    "                date = dateparser.parse(date)\n",
    "                if date != None:\n",
    "                    date = date.date()\n",
    "                    # if (dates_checkbox==False) or (date > start_date and date < end_date):\n",
    "                    if pd.isnull(row.long) or pd.isnull(row.lat):\n",
    "                        pass\n",
    "                    else:\n",
    "                        name = f\"{row.full_name}\"\n",
    "                        coords = [float(row.long), float(row.lat)]\n",
    "                        place = row.place\n",
    "                        description = row.description\n",
    "                        temp = {\"name\": str(name),\n",
    "                        \"place\": str(place),\n",
    "                        \"description\": str(description),\n",
    "                        \"coordinates\": coords,\n",
    "                        \"date\": \"Date: \" + str(date),\n",
    "                        \"date_time\": date,\n",
    "                        \"id\": row.object_id}\n",
    "                        data.append(temp)\n",
    "                        dates_only.append(temp)"
   ]
  },
  {
   "cell_type": "code",
   "execution_count": 198,
   "id": "a900bdce-7835-416b-b185-3f37517b9b3e",
   "metadata": {},
   "outputs": [],
   "source": [
    "df = pd.read_csv(\"../data/data_cleaned.csv\")\n",
    "# df = df[:100]\n",
    "df = df.loc[:, ~df.columns.str.contains('^Unnamed')]\n",
    "df = df[df['place'].notna()]\n",
    "df = df[df['long'].notna()]\n",
    "df = df[df['lat'].notna()]\n",
    "df['coordinates'] = ''\n",
    "df.index = df.object_id\n",
    "rows = []\n",
    "date_rows = []\n",
    "coords\n",
    "for idx, row in df.iterrows():\n",
    "    if \"-\" not in str(row.long):\n",
    "        if pd.isnull(row.date):\n",
    "            name = f\"{row.full_name}\"\n",
    "            coords = [float(row.long), float(row.lat)]\n",
    "            place = row.place\n",
    "            description = row.description\n",
    "            row.coordinates = coords\n",
    "            row.full_name = str(name)\n",
    "            row.place = [str(place)]\n",
    "            row.homeland = [str(row.homeland)]\n",
    "            row.province = [str(row.province)]\n",
    "            row.description = str(description)\n",
    "            if type(row.hrv) == str:\n",
    "                row.hrv = row.hrv.split(\"|\")\n",
    "            if type(row.org) == str:\n",
    "                row.org = row.org.split(\"|\")\n",
    "            else:\n",
    "                row.org = None\n",
    "            rows.append(row)\n",
    "\n",
    "        else:\n",
    "\n",
    "            dates = row.date.split(\"|\")\n",
    "            # st.write(dates)\n",
    "            all_dates = []\n",
    "            for date in dates:\n",
    "                date = dateparser.parse(date)\n",
    "                if date != None:\n",
    "                    date = date.date()\n",
    "                    all_dates.append(date)\n",
    "            name = f\"{row.full_name}\"\n",
    "            coords = [float(row.long), float(row.lat)]\n",
    "            place = row.place\n",
    "            description = row.description\n",
    "            row.coordinates = coords\n",
    "            row.full_name = str(name)\n",
    "            row.place = [str(place)]\n",
    "            row.homeland = [str(row.homeland)]\n",
    "            row.province = [str(row.province)]\n",
    "            row.description = str(description)\n",
    "            if type(row.hrv) == str:\n",
    "                row.hrv = row.hrv.split(\"|\")\n",
    "            if type(row.org) == str:\n",
    "                row.org = row.org.split(\"|\")\n",
    "            else:\n",
    "                row.org = None\n",
    "            \n",
    "            row.date = all_dates\n",
    "            rows.append(row)\n",
    "            if dates:\n",
    "                date_rows.append(row)"
   ]
  },
  {
   "cell_type": "code",
   "execution_count": 199,
   "id": "c67d4427-6a17-4560-bdef-728d6aef725a",
   "metadata": {},
   "outputs": [
    {
     "data": {
      "text/plain": [
       "full_name                                      Thabo Simon Aaron\n",
       "lastname                                                   AARON\n",
       "firstname                                            Thabo Simon\n",
       "description    An ANCYL member who was shot and severely inju...\n",
       "place                                                 [Bethulie]\n",
       "homeland                                                   [nan]\n",
       "province                                     [Orange Free State]\n",
       "long                                                    25.97552\n",
       "lat                                                    -30.50329\n",
       "hrv                                              [shoot, injure]\n",
       "org                                    [ANC, ANCYL, Police, SAP]\n",
       "date                                                [1991-04-17]\n",
       "object_id                                                      1\n",
       "coordinates                                [25.97552, -30.50329]\n",
       "Name: 1, dtype: object"
      ]
     },
     "execution_count": 199,
     "metadata": {},
     "output_type": "execute_result"
    }
   ],
   "source": [
    "rows[0]"
   ]
  },
  {
   "cell_type": "code",
   "execution_count": 200,
   "id": "99f0cce2-e419-45a9-8901-3e0f9ce601f3",
   "metadata": {},
   "outputs": [],
   "source": [
    "full_df = pd.DataFrame(rows)\n",
    "full_df = full_df.reset_index()"
   ]
  },
  {
   "cell_type": "code",
   "execution_count": 201,
   "id": "71713d1d-a2e0-40ef-ba23-d1defb481679",
   "metadata": {},
   "outputs": [],
   "source": [
    "full_df.to_feather(\"../data/full_data\")"
   ]
  },
  {
   "cell_type": "code",
   "execution_count": 202,
   "id": "08842c38-d22a-45ff-8155-5a6b157870ae",
   "metadata": {},
   "outputs": [],
   "source": [
    "dates_df = pd.DataFrame(date_rows)\n",
    "dates_df = dates_df.reset_index()\n",
    "# dates_df"
   ]
  },
  {
   "cell_type": "code",
   "execution_count": 203,
   "id": "06e023aa-fde1-4137-a9f6-bc29da33ccc2",
   "metadata": {},
   "outputs": [],
   "source": [
    "dates_df.to_feather(\"../data/dates_only\")"
   ]
  },
  {
   "cell_type": "code",
   "execution_count": null,
   "id": "c4808038-74e5-41de-99d5-fba3bd67928d",
   "metadata": {},
   "outputs": [],
   "source": []
  },
  {
   "cell_type": "code",
   "execution_count": 156,
   "id": "92d818b2-3af9-40fc-9f7f-3132c5e07cfe",
   "metadata": {},
   "outputs": [
    {
     "data": {
      "text/plain": [
       "index                                                          5\n",
       "full_name                              Annalene Mildred Abrahams\n",
       "lastname                                                ABRAHAMS\n",
       "firstname                                       Annalene Mildred\n",
       "description    Was shot and injured by members of the SAP in ...\n",
       "place                                                  Robertson\n",
       "homeland                                                     NaN\n",
       "province                                       Cape of Good Hope\n",
       "long                                                   19.883611\n",
       "lat                                                    -33.80222\n",
       "hrv                                              [shoot, injure]\n",
       "org                                                [Police, SAP]\n",
       "date                                                [1990-04-11]\n",
       "object_id                                                      5\n",
       "Name: 4, dtype: object"
      ]
     },
     "execution_count": 156,
     "metadata": {},
     "output_type": "execute_result"
    }
   ],
   "source": [
    "full_df.iloc[4]"
   ]
  },
  {
   "cell_type": "code",
   "execution_count": 171,
   "id": "b3e5c597-1610-46c9-b41a-c2d194298278",
   "metadata": {},
   "outputs": [
    {
     "name": "stdout",
     "output_type": "stream",
     "text": [
      "['ANC', 'ANCYL', 'Police', 'SAP']\n",
      "['ANC', 'ANCYL', 'SAP']\n",
      "['ANC', 'SAP']\n",
      "['ANC']\n",
      "['ANC']\n",
      "['ANC', 'MK']\n",
      "['ANC', 'UDF']\n",
      "['ANC', 'Police']\n",
      "['ANC']\n",
      "['ANC']\n",
      "['ANC', 'Peace Force', 'CDF']\n",
      "['ANC', 'SAP']\n",
      "['ANC', 'SAP']\n",
      "['ANC']\n",
      "['ANC', 'PAC', 'SAP']\n",
      "['ANC']\n",
      "['ANC', 'PAC']\n",
      "['ANC', 'Security']\n",
      "['ANC', 'MK']\n",
      "['ANC', 'SAP']\n",
      "['ANC']\n"
     ]
    }
   ],
   "source": [
    "for idx, row in full_df.iterrows():\n",
    "    if type(row.org) == list:\n",
    "        if any(item in [\"ANC\"] for item in row.org):\n",
    "        # if any(org in orgs for org_df in row.org):\n",
    "            print(row.org)"
   ]
  },
  {
   "cell_type": "code",
   "execution_count": 159,
   "id": "8e9defd9-ed2e-49a1-a80d-73516d0ef0a3",
   "metadata": {},
   "outputs": [],
   "source": [
    "test_orgs = full_df.org.tolist()"
   ]
  },
  {
   "cell_type": "code",
   "execution_count": 160,
   "id": "20281223-80db-4da5-b538-9e15d69b0e09",
   "metadata": {},
   "outputs": [
    {
     "data": {
      "text/plain": [
       "['ANC', 'ANCYL', 'Police', 'SAP']"
      ]
     },
     "execution_count": 160,
     "metadata": {},
     "output_type": "execute_result"
    }
   ],
   "source": [
    "test_orgs[0]"
   ]
  },
  {
   "cell_type": "code",
   "execution_count": 90,
   "id": "7ea538d8-696c-40d9-be15-ffdb18998618",
   "metadata": {},
   "outputs": [
    {
     "data": {
      "text/plain": [
       "str"
      ]
     },
     "execution_count": 90,
     "metadata": {},
     "output_type": "execute_result"
    }
   ],
   "source": [
    "type(row.org)"
   ]
  },
  {
   "cell_type": "code",
   "execution_count": 79,
   "id": "96b2b56f-e286-47b4-80af-1e0b8a4b8892",
   "metadata": {},
   "outputs": [],
   "source": [
    "import json"
   ]
  },
  {
   "cell_type": "code",
   "execution_count": 88,
   "id": "65892338-a1ff-49ea-850f-3c2a0cda12f2",
   "metadata": {},
   "outputs": [
    {
     "data": {
      "text/plain": [
       "'A'"
      ]
     },
     "execution_count": 88,
     "metadata": {},
     "output_type": "execute_result"
    }
   ],
   "source": [
    "row.org[0][:1]"
   ]
  },
  {
   "cell_type": "code",
   "execution_count": 75,
   "id": "08828a0a-5e80-4f9a-8da3-0b5a190157f8",
   "metadata": {},
   "outputs": [
    {
     "ename": "TypeError",
     "evalue": "loads() missing 1 required positional argument: 's'",
     "output_type": "error",
     "traceback": [
      "\u001b[1;31m---------------------------------------------------------------------------\u001b[0m",
      "\u001b[1;31mTypeError\u001b[0m                                 Traceback (most recent call last)",
      "Input \u001b[1;32mIn [75]\u001b[0m, in \u001b[0;36m<cell line: 1>\u001b[1;34m()\u001b[0m\n\u001b[1;32m----> 1\u001b[0m \u001b[43mjson\u001b[49m\u001b[38;5;241;43m.\u001b[39;49m\u001b[43mloads\u001b[49m\u001b[43m(\u001b[49m\u001b[43m)\u001b[49m\n",
      "\u001b[1;31mTypeError\u001b[0m: loads() missing 1 required positional argument: 's'"
     ]
    }
   ],
   "source": [
    "json.loads()"
   ]
  },
  {
   "cell_type": "code",
   "execution_count": null,
   "id": "b2bb2000-b049-4ac9-bfc6-9ace36854f78",
   "metadata": {},
   "outputs": [],
   "source": []
  }
 ],
 "metadata": {
  "kernelspec": {
   "display_name": "Python 3 (ipykernel)",
   "language": "python",
   "name": "python3"
  },
  "language_info": {
   "codemirror_mode": {
    "name": "ipython",
    "version": 3
   },
   "file_extension": ".py",
   "mimetype": "text/x-python",
   "name": "python",
   "nbconvert_exporter": "python",
   "pygments_lexer": "ipython3",
   "version": "3.8.5"
  }
 },
 "nbformat": 4,
 "nbformat_minor": 5
}
